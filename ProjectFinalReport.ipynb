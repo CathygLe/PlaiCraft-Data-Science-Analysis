{
 "cells": [
  {
   "cell_type": "markdown",
   "id": "51ca704f-a260-4f0f-967a-54f448724b2e",
   "metadata": {},
   "source": [
    "### Investigating the Kinds of MineCraft Players "
   ]
  },
  {
   "cell_type": "code",
   "execution_count": null,
   "id": "16562fab-09c0-4a81-8ae3-8087e9b87bf5",
   "metadata": {},
   "outputs": [],
   "source": []
  }
 ],
 "metadata": {
  "kernelspec": {
   "display_name": "R",
   "language": "R",
   "name": "ir"
  },
  "language_info": {
   "codemirror_mode": "r",
   "file_extension": ".r",
   "mimetype": "text/x-r-source",
   "name": "R",
   "pygments_lexer": "r",
   "version": "4.3.3"
  }
 },
 "nbformat": 4,
 "nbformat_minor": 5
}
