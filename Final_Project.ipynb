{
 "cells": [
  {
   "cell_type": "markdown",
   "id": "f34290c6-2074-4df2-8108-47a3614b59f8",
   "metadata": {},
   "source": [
    "### Investigating Minecraft Players "
   ]
  }
 ],
 "metadata": {
  "kernelspec": {
   "display_name": "R",
   "language": "R",
   "name": "ir"
  },
  "language_info": {
   "codemirror_mode": "r",
   "file_extension": ".r",
   "mimetype": "text/x-r-source",
   "name": "R",
   "pygments_lexer": "r",
   "version": "4.3.3"
  }
 },
 "nbformat": 4,
 "nbformat_minor": 5
}
