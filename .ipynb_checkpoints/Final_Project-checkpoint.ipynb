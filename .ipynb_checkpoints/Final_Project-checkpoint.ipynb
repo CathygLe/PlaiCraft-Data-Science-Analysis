{
 "cells": [
  {
   "cell_type": "markdown",
   "id": "f34290c6-2074-4df2-8108-47a3614b59f8",
   "metadata": {},
   "source": [
    "# Insert Project Title\n",
    "\n",
    "## Introduction \n",
    "provide some relevant background information on the topic so that someone unfamiliar with it will be prepared to understand the rest of your report\n",
    "clearly state the question you tried to answer with your project\n",
    "identify and fully describe the dataset that was used to answer the question\n",
    "\n",
    "\n",
    "The purpose of this Data Science Project is to perform an analysis to answer a predictive question using the Minecraft server, PlaiCraft, dataset. Specifically, we'd like to better understand the details regarding player engagement and demographics. This dataset was collected by a research group in Computer Science at UBC to explore how people play video games. In this Project Planning Report, a brief data description, proposed question, exploratory data analysis and visualization will be presented along with a structured approach and plan.\n",
    "\n",
    "### Data Description\n",
    "\n",
    " The data being used on this project was collected by having individuals play on UBC's research group's Mincraft served called PlaiCraft. The data collected consisted of information such as player experience, their session durations, and furthmore. The files we are presented with consists of players.csv and sessions.csv.\n",
    "\n",
    "#### Players Dataset\n",
    "The players.csv file contains information collected from the Minecraft server with 197 observations and 7 columns. Each observation is representative of a player. \n",
    "\n",
    "Further information about the dataset can be seen in the following table:\n",
    "\n",
    "|  Variable Name | Variable Data Type |                          Description                                | \n",
    "|:--------------:|:------------------:|:-------------------------------------------------------------------:|\n",
    "|  experience    |  Character         |   Describes if a player is a Pro, Veteran, Beginner or Amateur\t    |  \n",
    "|  subscribe     |  Logical           |   Denotes if a player has subscribed to PlaiCraft's email updates   |   \n",
    "|  hashedEmail   |  Character         |   The hashed email for each player                                  |  \n",
    "| played_hours   |  Double            |   The total number of hours a player has played                     |\n",
    "|  name          |  Character         |   The player's alias                                                |  \n",
    "|  gender        | Character          |   The player's gender, either male or female                        |  \n",
    "|  age           |  Double            |   The player's age                                                  | \n",
    "\n",
    "\n",
    "#### Sessions Dataset\n",
    "The sessions.csv file contains information collected from the Minecraft server with 1535 observations and 5 columns. Each observation is representative of a player's playing session, noting the start and end times of that session.\n",
    "Further information about the dataset can be seen in the following table:\n",
    "\n",
    "|  Variable Name       | Variable Data Type |                          Description                                | \n",
    "|:--------------------:|:------------------:|:-------------------------------------------------------------------:| \n",
    "|  hashedEmail         |  Character         |   The hashed email for each player                                  |  \n",
    "|  start_time          |  Character         |   The player's actual start time of the session                     |\n",
    "|  end_time            |  Character         |   The player's actual end time of the session                       |  \n",
    "|  original_start_time |  Double            |   The player's scheduled start times in UNIX timestamp format       |  \n",
    "|  original_end_time   |  Double            |   The player's scheduled end times in UNIX timestamp format         | \n",
    "\n",
    "## Methods & Results \n",
    "describe the methods you used to perform your analysis from beginning to end that narrates the analysis code.\n",
    "your report should include code which:\n",
    "loads data \n",
    "wrangles and cleans the data to the format necessary for the planned analysis\n",
    "performs a summary of the data set that is relevant for exploratory data analysis related to the planned analysis \n",
    "creates a visualization of the dataset that is relevant for exploratory data analysis related to the planned analysis\n",
    "performs the data analysis\n",
    "creates a visualization of the analysis \n",
    "note: all figures should have a figure number and a legend\n",
    "\n",
    "\n",
    "## Discussion\n",
    "summarize what you found\n",
    "discuss whether this is what you expected to find?\n",
    "discuss what impact could such findings have?\n",
    "discuss what future questions could this lead to?"
   ]
  },
  {
   "cell_type": "markdown",
   "id": "debff586-60dc-471e-b062-29af317fcc7e",
   "metadata": {},
   "source": [
    "# Analysis"
   ]
  },
  {
   "cell_type": "code",
   "execution_count": 1,
   "id": "e7d31082-5323-4d86-a1b2-80035dcc3ed5",
   "metadata": {},
   "outputs": [
    {
     "name": "stderr",
     "output_type": "stream",
     "text": [
      "── \u001b[1mAttaching core tidyverse packages\u001b[22m ──────────────────────── tidyverse 2.0.0 ──\n",
      "\u001b[32m✔\u001b[39m \u001b[34mdplyr    \u001b[39m 1.1.4     \u001b[32m✔\u001b[39m \u001b[34mreadr    \u001b[39m 2.1.5\n",
      "\u001b[32m✔\u001b[39m \u001b[34mforcats  \u001b[39m 1.0.0     \u001b[32m✔\u001b[39m \u001b[34mstringr  \u001b[39m 1.5.1\n",
      "\u001b[32m✔\u001b[39m \u001b[34mggplot2  \u001b[39m 3.5.1     \u001b[32m✔\u001b[39m \u001b[34mtibble   \u001b[39m 3.2.1\n",
      "\u001b[32m✔\u001b[39m \u001b[34mlubridate\u001b[39m 1.9.3     \u001b[32m✔\u001b[39m \u001b[34mtidyr    \u001b[39m 1.3.1\n",
      "\u001b[32m✔\u001b[39m \u001b[34mpurrr    \u001b[39m 1.0.2     \n",
      "── \u001b[1mConflicts\u001b[22m ────────────────────────────────────────── tidyverse_conflicts() ──\n",
      "\u001b[31m✖\u001b[39m \u001b[34mdplyr\u001b[39m::\u001b[32mfilter()\u001b[39m masks \u001b[34mstats\u001b[39m::filter()\n",
      "\u001b[31m✖\u001b[39m \u001b[34mdplyr\u001b[39m::\u001b[32mlag()\u001b[39m    masks \u001b[34mstats\u001b[39m::lag()\n",
      "\u001b[36mℹ\u001b[39m Use the conflicted package (\u001b[3m\u001b[34m<http://conflicted.r-lib.org/>\u001b[39m\u001b[23m) to force all conflicts to become errors\n",
      "── \u001b[1mAttaching packages\u001b[22m ────────────────────────────────────── tidymodels 1.1.1 ──\n",
      "\n",
      "\u001b[32m✔\u001b[39m \u001b[34mbroom       \u001b[39m 1.0.6     \u001b[32m✔\u001b[39m \u001b[34mrsample     \u001b[39m 1.2.1\n",
      "\u001b[32m✔\u001b[39m \u001b[34mdials       \u001b[39m 1.3.0     \u001b[32m✔\u001b[39m \u001b[34mtune        \u001b[39m 1.1.2\n",
      "\u001b[32m✔\u001b[39m \u001b[34minfer       \u001b[39m 1.0.7     \u001b[32m✔\u001b[39m \u001b[34mworkflows   \u001b[39m 1.1.4\n",
      "\u001b[32m✔\u001b[39m \u001b[34mmodeldata   \u001b[39m 1.4.0     \u001b[32m✔\u001b[39m \u001b[34mworkflowsets\u001b[39m 1.0.1\n",
      "\u001b[32m✔\u001b[39m \u001b[34mparsnip     \u001b[39m 1.2.1     \u001b[32m✔\u001b[39m \u001b[34myardstick   \u001b[39m 1.3.1\n",
      "\u001b[32m✔\u001b[39m \u001b[34mrecipes     \u001b[39m 1.1.0     \n",
      "\n",
      "── \u001b[1mConflicts\u001b[22m ───────────────────────────────────────── tidymodels_conflicts() ──\n",
      "\u001b[31m✖\u001b[39m \u001b[34mscales\u001b[39m::\u001b[32mdiscard()\u001b[39m masks \u001b[34mpurrr\u001b[39m::discard()\n",
      "\u001b[31m✖\u001b[39m \u001b[34mdplyr\u001b[39m::\u001b[32mfilter()\u001b[39m   masks \u001b[34mstats\u001b[39m::filter()\n",
      "\u001b[31m✖\u001b[39m \u001b[34mrecipes\u001b[39m::\u001b[32mfixed()\u001b[39m  masks \u001b[34mstringr\u001b[39m::fixed()\n",
      "\u001b[31m✖\u001b[39m \u001b[34mdplyr\u001b[39m::\u001b[32mlag()\u001b[39m      masks \u001b[34mstats\u001b[39m::lag()\n",
      "\u001b[31m✖\u001b[39m \u001b[34myardstick\u001b[39m::\u001b[32mspec()\u001b[39m masks \u001b[34mreadr\u001b[39m::spec()\n",
      "\u001b[31m✖\u001b[39m \u001b[34mrecipes\u001b[39m::\u001b[32mstep()\u001b[39m   masks \u001b[34mstats\u001b[39m::step()\n",
      "\u001b[34m•\u001b[39m Dig deeper into tidy modeling with R at \u001b[32mhttps://www.tmwr.org\u001b[39m\n",
      "\n"
     ]
    }
   ],
   "source": [
    "library(tidyverse)\n",
    "library(tidymodels)\n",
    "library(repr)\n",
    "library (lubridate)"
   ]
  },
  {
   "cell_type": "code",
   "execution_count": 6,
   "id": "3ba97dbf-47d5-4309-aeb5-168c31849352",
   "metadata": {},
   "outputs": [
    {
     "name": "stderr",
     "output_type": "stream",
     "text": [
      "\u001b[1mRows: \u001b[22m\u001b[34m196\u001b[39m \u001b[1mColumns: \u001b[22m\u001b[34m9\u001b[39m\n",
      "\u001b[36m──\u001b[39m \u001b[1mColumn specification\u001b[22m \u001b[36m────────────────────────────────────────────────────────\u001b[39m\n",
      "\u001b[1mDelimiter:\u001b[22m \",\"\n",
      "\u001b[31mchr\u001b[39m (4): experience, hashedEmail, name, gender\n",
      "\u001b[32mdbl\u001b[39m (2): played_hours, age\n",
      "\u001b[33mlgl\u001b[39m (3): subscribe, individualId, organizationName\n",
      "\n",
      "\u001b[36mℹ\u001b[39m Use `spec()` to retrieve the full column specification for this data.\n",
      "\u001b[36mℹ\u001b[39m Specify the column types or set `show_col_types = FALSE` to quiet this message.\n",
      "\u001b[1mRows: \u001b[22m\u001b[34m1535\u001b[39m \u001b[1mColumns: \u001b[22m\u001b[34m5\u001b[39m\n",
      "\u001b[36m──\u001b[39m \u001b[1mColumn specification\u001b[22m \u001b[36m────────────────────────────────────────────────────────\u001b[39m\n",
      "\u001b[1mDelimiter:\u001b[22m \",\"\n",
      "\u001b[31mchr\u001b[39m (3): hashedEmail, start_time, end_time\n",
      "\u001b[32mdbl\u001b[39m (2): original_start_time, original_end_time\n",
      "\n",
      "\u001b[36mℹ\u001b[39m Use `spec()` to retrieve the full column specification for this data.\n",
      "\u001b[36mℹ\u001b[39m Specify the column types or set `show_col_types = FALSE` to quiet this message.\n"
     ]
    }
   ],
   "source": [
    "players_data <- read_csv (\"https://drive.google.com/uc?export=download&id=1Mw9vW0hjTJwRWx0bDXiSpYsO3gKogaPz\")|>\n",
    "    select(-individualId, -organizationName)\n",
    "\n",
    "sessions_data <- read_csv (\"https://drive.google.com/uc?export=download&id=14O91N5OlVkvdGxXNJUj5jIsV5RexhzbB\")"
   ]
  },
  {
   "cell_type": "code",
   "execution_count": 7,
   "id": "5322f0ab-a64a-4747-b9f3-44e59508194c",
   "metadata": {},
   "outputs": [],
   "source": [
    "players_analysis_data <- sessions_data |> \n",
    "    mutate (start_time = as.POSIXct(start_time, format = \"%d/%m/%Y %H:%M\")) |>\n",
    "    mutate (end_time = as.POSIXct(end_time, format = \"%d/%m/%Y %H:%M\"))|>\n",
    "    mutate (converted_end_sec = as.numeric(as.POSIXct(end_time, format = \"%d/%m/%Y %H:%M\"))) |>\n",
    "    mutate (converted_start_sec = as.numeric(as.POSIXct(start_time, format = \"%d/%m/%Y %H:%M\"))) |>\n",
    "    mutate (duration = (converted_end_sec - converted_start_sec )/(60)) |>\n",
    "    select (-original_start_time, -original_end_time)|>\n",
    "    group_by (hashedEmail)|>\n",
    "    summarize(total_duration_min = sum(duration))"
   ]
  },
  {
   "cell_type": "code",
   "execution_count": 11,
   "id": "6f79a4c8-b308-4681-a270-a4913cd53b4e",
   "metadata": {},
   "outputs": [],
   "source": [
    "combined_data <- left_join(players_data, players_analysis_data, by=\"hashedEmail\") |>\n",
    "    mutate(total_duration_min = replace_na(total_duration_min, 0)) |>\n",
    "    mutate(id_number = row_number())|>\n",
    "    select (id_number, everything(), - hashedEmail, -name)\n"
   ]
  },
  {
   "cell_type": "code",
   "execution_count": 13,
   "id": "2c0481a3-d893-4cef-bf13-d0c5ebf787bc",
   "metadata": {},
   "outputs": [
    {
     "data": {
      "text/html": [
       "<table class=\"dataframe\">\n",
       "<caption>A tibble: 6 × 7</caption>\n",
       "<thead>\n",
       "\t<tr><th scope=col>id_number</th><th scope=col>experience</th><th scope=col>subscribe</th><th scope=col>played_hours</th><th scope=col>gender</th><th scope=col>age</th><th scope=col>total_duration_min</th></tr>\n",
       "\t<tr><th scope=col>&lt;int&gt;</th><th scope=col>&lt;chr&gt;</th><th scope=col>&lt;lgl&gt;</th><th scope=col>&lt;dbl&gt;</th><th scope=col>&lt;chr&gt;</th><th scope=col>&lt;dbl&gt;</th><th scope=col>&lt;dbl&gt;</th></tr>\n",
       "</thead>\n",
       "<tbody>\n",
       "\t<tr><td>1</td><td>Pro    </td><td> TRUE</td><td>30.3</td><td>Male  </td><td> 9</td><td>2019</td></tr>\n",
       "\t<tr><td>2</td><td>Veteran</td><td> TRUE</td><td> 3.8</td><td>Male  </td><td>17</td><td> 255</td></tr>\n",
       "\t<tr><td>3</td><td>Veteran</td><td>FALSE</td><td> 0.0</td><td>Male  </td><td>17</td><td>   5</td></tr>\n",
       "\t<tr><td>4</td><td>Amateur</td><td> TRUE</td><td> 0.7</td><td>Female</td><td>21</td><td>  50</td></tr>\n",
       "\t<tr><td>5</td><td>Regular</td><td> TRUE</td><td> 0.1</td><td>Male  </td><td>21</td><td>   9</td></tr>\n",
       "\t<tr><td>6</td><td>Amateur</td><td> TRUE</td><td> 0.0</td><td>Female</td><td>17</td><td>   0</td></tr>\n",
       "</tbody>\n",
       "</table>\n"
      ],
      "text/latex": [
       "A tibble: 6 × 7\n",
       "\\begin{tabular}{lllllll}\n",
       " id\\_number & experience & subscribe & played\\_hours & gender & age & total\\_duration\\_min\\\\\n",
       " <int> & <chr> & <lgl> & <dbl> & <chr> & <dbl> & <dbl>\\\\\n",
       "\\hline\n",
       "\t 1 & Pro     &  TRUE & 30.3 & Male   &  9 & 2019\\\\\n",
       "\t 2 & Veteran &  TRUE &  3.8 & Male   & 17 &  255\\\\\n",
       "\t 3 & Veteran & FALSE &  0.0 & Male   & 17 &    5\\\\\n",
       "\t 4 & Amateur &  TRUE &  0.7 & Female & 21 &   50\\\\\n",
       "\t 5 & Regular &  TRUE &  0.1 & Male   & 21 &    9\\\\\n",
       "\t 6 & Amateur &  TRUE &  0.0 & Female & 17 &    0\\\\\n",
       "\\end{tabular}\n"
      ],
      "text/markdown": [
       "\n",
       "A tibble: 6 × 7\n",
       "\n",
       "| id_number &lt;int&gt; | experience &lt;chr&gt; | subscribe &lt;lgl&gt; | played_hours &lt;dbl&gt; | gender &lt;chr&gt; | age &lt;dbl&gt; | total_duration_min &lt;dbl&gt; |\n",
       "|---|---|---|---|---|---|---|\n",
       "| 1 | Pro     |  TRUE | 30.3 | Male   |  9 | 2019 |\n",
       "| 2 | Veteran |  TRUE |  3.8 | Male   | 17 |  255 |\n",
       "| 3 | Veteran | FALSE |  0.0 | Male   | 17 |    5 |\n",
       "| 4 | Amateur |  TRUE |  0.7 | Female | 21 |   50 |\n",
       "| 5 | Regular |  TRUE |  0.1 | Male   | 21 |    9 |\n",
       "| 6 | Amateur |  TRUE |  0.0 | Female | 17 |    0 |\n",
       "\n"
      ],
      "text/plain": [
       "  id_number experience subscribe played_hours gender age total_duration_min\n",
       "1 1         Pro         TRUE     30.3         Male    9  2019              \n",
       "2 2         Veteran     TRUE      3.8         Male   17   255              \n",
       "3 3         Veteran    FALSE      0.0         Male   17     5              \n",
       "4 4         Amateur     TRUE      0.7         Female 21    50              \n",
       "5 5         Regular     TRUE      0.1         Male   21     9              \n",
       "6 6         Amateur     TRUE      0.0         Female 17     0              "
      ]
     },
     "metadata": {},
     "output_type": "display_data"
    }
   ],
   "source": [
    "head(combined_data) "
   ]
  },
  {
   "cell_type": "code",
   "execution_count": 20,
   "id": "ef2ad2ed-bef9-4be5-907f-7fcf22fd6afe",
   "metadata": {},
   "outputs": [
    {
     "data": {
      "text/html": [
       "<table class=\"dataframe\">\n",
       "<caption>A tibble: 6 × 8</caption>\n",
       "<thead>\n",
       "\t<tr><th scope=col>id_number</th><th scope=col>experience</th><th scope=col>subscribe</th><th scope=col>played_hours</th><th scope=col>gender</th><th scope=col>age</th><th scope=col>total_duration_min</th><th scope=col>numerical_experience</th></tr>\n",
       "\t<tr><th scope=col>&lt;int&gt;</th><th scope=col>&lt;chr&gt;</th><th scope=col>&lt;lgl&gt;</th><th scope=col>&lt;dbl&gt;</th><th scope=col>&lt;chr&gt;</th><th scope=col>&lt;dbl&gt;</th><th scope=col>&lt;dbl&gt;</th><th scope=col>&lt;dbl&gt;</th></tr>\n",
       "</thead>\n",
       "<tbody>\n",
       "\t<tr><td>1</td><td>Pro    </td><td> TRUE</td><td>30.3</td><td>Male  </td><td> 9</td><td>2019</td><td>4</td></tr>\n",
       "\t<tr><td>2</td><td>Veteran</td><td> TRUE</td><td> 3.8</td><td>Male  </td><td>17</td><td> 255</td><td>5</td></tr>\n",
       "\t<tr><td>3</td><td>Veteran</td><td>FALSE</td><td> 0.0</td><td>Male  </td><td>17</td><td>   5</td><td>5</td></tr>\n",
       "\t<tr><td>4</td><td>Amateur</td><td> TRUE</td><td> 0.7</td><td>Female</td><td>21</td><td>  50</td><td>1</td></tr>\n",
       "\t<tr><td>5</td><td>Regular</td><td> TRUE</td><td> 0.1</td><td>Male  </td><td>21</td><td>   9</td><td>3</td></tr>\n",
       "\t<tr><td>6</td><td>Amateur</td><td> TRUE</td><td> 0.0</td><td>Female</td><td>17</td><td>   0</td><td>1</td></tr>\n",
       "</tbody>\n",
       "</table>\n"
      ],
      "text/latex": [
       "A tibble: 6 × 8\n",
       "\\begin{tabular}{llllllll}\n",
       " id\\_number & experience & subscribe & played\\_hours & gender & age & total\\_duration\\_min & numerical\\_experience\\\\\n",
       " <int> & <chr> & <lgl> & <dbl> & <chr> & <dbl> & <dbl> & <dbl>\\\\\n",
       "\\hline\n",
       "\t 1 & Pro     &  TRUE & 30.3 & Male   &  9 & 2019 & 4\\\\\n",
       "\t 2 & Veteran &  TRUE &  3.8 & Male   & 17 &  255 & 5\\\\\n",
       "\t 3 & Veteran & FALSE &  0.0 & Male   & 17 &    5 & 5\\\\\n",
       "\t 4 & Amateur &  TRUE &  0.7 & Female & 21 &   50 & 1\\\\\n",
       "\t 5 & Regular &  TRUE &  0.1 & Male   & 21 &    9 & 3\\\\\n",
       "\t 6 & Amateur &  TRUE &  0.0 & Female & 17 &    0 & 1\\\\\n",
       "\\end{tabular}\n"
      ],
      "text/markdown": [
       "\n",
       "A tibble: 6 × 8\n",
       "\n",
       "| id_number &lt;int&gt; | experience &lt;chr&gt; | subscribe &lt;lgl&gt; | played_hours &lt;dbl&gt; | gender &lt;chr&gt; | age &lt;dbl&gt; | total_duration_min &lt;dbl&gt; | numerical_experience &lt;dbl&gt; |\n",
       "|---|---|---|---|---|---|---|---|\n",
       "| 1 | Pro     |  TRUE | 30.3 | Male   |  9 | 2019 | 4 |\n",
       "| 2 | Veteran |  TRUE |  3.8 | Male   | 17 |  255 | 5 |\n",
       "| 3 | Veteran | FALSE |  0.0 | Male   | 17 |    5 | 5 |\n",
       "| 4 | Amateur |  TRUE |  0.7 | Female | 21 |   50 | 1 |\n",
       "| 5 | Regular |  TRUE |  0.1 | Male   | 21 |    9 | 3 |\n",
       "| 6 | Amateur |  TRUE |  0.0 | Female | 17 |    0 | 1 |\n",
       "\n"
      ],
      "text/plain": [
       "  id_number experience subscribe played_hours gender age total_duration_min\n",
       "1 1         Pro         TRUE     30.3         Male    9  2019              \n",
       "2 2         Veteran     TRUE      3.8         Male   17   255              \n",
       "3 3         Veteran    FALSE      0.0         Male   17     5              \n",
       "4 4         Amateur     TRUE      0.7         Female 21    50              \n",
       "5 5         Regular     TRUE      0.1         Male   21     9              \n",
       "6 6         Amateur     TRUE      0.0         Female 17     0              \n",
       "  numerical_experience\n",
       "1 4                   \n",
       "2 5                   \n",
       "3 5                   \n",
       "4 1                   \n",
       "5 3                   \n",
       "6 1                   "
      ]
     },
     "metadata": {},
     "output_type": "display_data"
    }
   ],
   "source": [
    "combined_data <- combined_data|>\n",
    "    mutate(numerical_experience = case_when(\n",
    "    experience == \"Amateur\" ~ 1,\n",
    "    experience == \"Beginner\" ~ 2,\n",
    "    experience == \"Regular\" ~ 3,\n",
    "    experience == \"Pro\" ~ 4,\n",
    "    experience == \"Veteran\" ~ 5))\n",
    "\n",
    "head(combined_data)"
   ]
  }
 ],
 "metadata": {
  "kernelspec": {
   "display_name": "R",
   "language": "R",
   "name": "ir"
  },
  "language_info": {
   "codemirror_mode": "r",
   "file_extension": ".r",
   "mimetype": "text/x-r-source",
   "name": "R",
   "pygments_lexer": "r",
   "version": "4.3.3"
  }
 },
 "nbformat": 4,
 "nbformat_minor": 5
}
